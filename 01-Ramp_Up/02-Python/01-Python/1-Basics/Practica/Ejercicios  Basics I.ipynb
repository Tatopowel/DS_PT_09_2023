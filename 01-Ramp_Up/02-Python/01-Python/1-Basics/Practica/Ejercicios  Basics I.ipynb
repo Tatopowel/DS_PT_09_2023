{
 "cells": [
  {
   "cell_type": "markdown",
   "metadata": {},
   "source": [
    "![imagen](./img/ejercicios.png)"
   ]
  },
  {
   "cell_type": "markdown",
   "metadata": {},
   "source": [
    "# Ejercicios Python Basics I"
   ]
  },
  {
   "cell_type": "markdown",
   "metadata": {},
   "source": [
    "## Ejercicio 1\n",
    "Imprime por pantalla esta cita con el siguiente formato\n",
    "\n",
    "![imagen](./img/frase_Einstein.PNG)"
   ]
  },
  {
   "cell_type": "code",
   "execution_count": 6,
   "metadata": {},
   "outputs": [
    {
     "name": "stdout",
     "output_type": "stream",
     "text": [
      "¿Por que esta magnifica tecnologia cientifica\n",
      "\tque ahorra trabajo y nos hace la vida mas facil,\n",
      "\t\tnos aporta tan poca felicidad\n",
      "\t\t\tLa respuesta es esta, simplemente: porque aun no hemos aprendido a usarla con tino.\n",
      "\"Albert Einstein\"\n"
     ]
    }
   ],
   "source": [
    "# colocamos \\n para bajar una fila y \\t para un espacio\n",
    "print('¿Por que esta magnifica tecnologia cientifica\\n\\tque ahorra trabajo y nos hace la vida mas facil,\\n\\t\\tnos aporta tan poca felicidad\\n\\t\\t\\tLa respuesta es esta, simplemente: porque aun no hemos aprendido a usarla con tino.\\n\"Albert Einstein\"')"
   ]
  },
  {
   "cell_type": "markdown",
   "metadata": {},
   "source": [
    "## Ejercicio 2\n",
    "1. Escribe el nombre de la calle de tu domicilio en una variable\n",
    "2. Escribe el numero de la calle en otra\n",
    "3. Ciudad en una tercera\n",
    "4. Codigo postal en la cuarta variable\n",
    "5. Crea una quinta variable que concatene todas ellas\n",
    "6. Imprimela por pantalla"
   ]
  },
  {
   "cell_type": "code",
   "execution_count": 9,
   "metadata": {},
   "outputs": [
    {
     "name": "stdout",
     "output_type": "stream",
     "text": [
      "rio_genil 12, linares, 23700\n"
     ]
    }
   ],
   "source": [
    "calle = \"rio_genil\"\n",
    "numero = \"12\"\n",
    "ciudad = \"linares\"\n",
    "cp = \"23700\"\n",
    "direccion_completa = calle + \" \" + numero + \", \" + ciudad + \", \" + cp\n",
    "\n",
    "print(direccion_completa)"
   ]
  },
  {
   "cell_type": "markdown",
   "metadata": {},
   "source": [
    "## Ejercicio 3\n",
    "Replica el output del ejercicio dos, pero está vez sin usar una variable intermedia que concatene todas las demas. Realiza este ejercicio en una línea, con un  único `print`"
   ]
  },
  {
   "cell_type": "code",
   "execution_count": 11,
   "metadata": {},
   "outputs": [
    {
     "name": "stdout",
     "output_type": "stream",
     "text": [
      "rio_genil 12, linares, 23700\n"
     ]
    }
   ],
   "source": [
    "\n",
    "direccion_completa = calle + \" \" + numero + \", \" + ciudad + \", \" + cp\n",
    "\n",
    "print(direccion_completa)"
   ]
  },
  {
   "cell_type": "markdown",
   "metadata": {},
   "source": [
    "## Ejercicio 4\n",
    "¿Qué variables están mal escritas y por qué? Realiza primero tu hipótesis y luego ejecuta las variables para comprobarlo. En ese orden :)\n",
    "\n",
    "\n",
    "1. mi_variable = \"Economía\"\n",
    "2. otra_var = \"Ejercicio\n",
    "3. True = \"Ejercicio\"\n",
    "4. mi variab1e = \"Alpha\"\n",
    "5. import = 40\n",
    "6. 81mi_variable = \"Agua\"\n",
    "7. mi_variable10 = 6"
   ]
  },
  {
   "cell_type": "markdown",
   "metadata": {},
   "source": [
    "1. Ok\n",
    "2. Falta cerrar con comillas\n",
    "3. No puedes utilizar palabras reservadas como True\n",
    "4. No podemos poner espacios en el nombre de la variable\n",
    "5. No puedes utilizar palabras reservadas como import\n",
    "6. No se puede iniciar variable con número al principio\n",
    "7. Ok"
   ]
  },
  {
   "cell_type": "code",
   "execution_count": 41,
   "metadata": {},
   "outputs": [
    {
     "ename": "SyntaxError",
     "evalue": "unterminated string literal (detected at line 4) (2885297664.py, line 4)",
     "output_type": "error",
     "traceback": [
      "\u001b[1;36m  Cell \u001b[1;32mIn[41], line 4\u001b[1;36m\u001b[0m\n\u001b[1;33m    otra_var = \"Ejercicio\u001b[0m\n\u001b[1;37m               ^\u001b[0m\n\u001b[1;31mSyntaxError\u001b[0m\u001b[1;31m:\u001b[0m unterminated string literal (detected at line 4)\n"
     ]
    }
   ],
   "source": [
    "#ok\n",
    "mi_variable = \"Economia\"\n",
    "#Falta cerrar con comillas\n",
    "otra_var = \"Ejercicio\n",
    "#No puedes utilizar palabras reservadas como True \n",
    "True = \"Ejercicio\"\n",
    "#No podemos dejar espacios en el nombre de la variable\n",
    "mi variab1e = \"Alpha\"\n",
    "#No puedes utilizar palabras reservadas como import\n",
    "import = 40\n",
    "#No se puede iniciar variable con numero al principio\n",
    "81mi_variable = \"Agua\"\n",
    "#ok\n",
    "mi_variable10 = 6"
   ]
  },
  {
   "cell_type": "markdown",
   "metadata": {},
   "source": [
    "## Ejercicio 5\n",
    "Realiza un conversor de grados Celsius a Fahrenheit. El conversor tiene que recibir el input del usuario y devolver la conversión.\n",
    "\n",
    "La conversión de grados sigue la siguiente fórmula: F = C × (9 / 5) + 32 "
   ]
  },
  {
   "cell_type": "code",
   "execution_count": 6,
   "metadata": {},
   "outputs": [
    {
     "name": "stdout",
     "output_type": "stream",
     "text": [
      "20 grados Celsius equivalen a 68.0 grados Fahrenheit.\n"
     ]
    }
   ],
   "source": [
    "# Solicitar los grados celsius\n",
    "celsius = int(input(\"Ingresa la temperatura en grados Celsius: \"))\n",
    "\n",
    "# Convertimos a Fahrenheit poniendo la formula\n",
    "fahrenheit = celsius * (9/5) + 32\n",
    "\n",
    "# Mostramos el resultado\n",
    "print(f\"{celsius} grados Celsius equivalen a {fahrenheit} grados Fahrenheit.\")\n"
   ]
  },
  {
   "cell_type": "markdown",
   "metadata": {},
   "source": [
    "## Ejercicio 6\n",
    "Comenta en la medida de lo posible el Ejercicio 5. Será suficiente con poner al menos un comentario de línea, y otro multilínea"
   ]
  },
  {
   "cell_type": "code",
   "execution_count": 8,
   "metadata": {},
   "outputs": [
    {
     "data": {
      "text/plain": [
       "'\\ndespues convertimos a Fahrenheit poniemdo la formula\\ny ya por ultimo imprimos y montramos el resultado\\n'"
      ]
     },
     "execution_count": 8,
     "metadata": {},
     "output_type": "execute_result"
    }
   ],
   "source": [
    "# primero solicitamos los grados celsius con un nimero entero \n",
    "\"\"\"\n",
    "despues convertimos a Fahrenheit poniemdo la formula\n",
    "y ya por ultimo imprimos y montramos el resultado\n",
    "\"\"\""
   ]
  }
 ],
 "metadata": {
  "kernelspec": {
   "display_name": "Python 3",
   "language": "python",
   "name": "python3"
  },
  "language_info": {
   "codemirror_mode": {
    "name": "ipython",
    "version": 3
   },
   "file_extension": ".py",
   "mimetype": "text/x-python",
   "name": "python",
   "nbconvert_exporter": "python",
   "pygments_lexer": "ipython3",
   "version": "3.11.5"
  },
  "nbTranslate": {
   "displayLangs": [
    "*"
   ],
   "hotkey": "alt-t",
   "langInMainMenu": true,
   "sourceLang": "en",
   "targetLang": "fr",
   "useGoogleTranslate": true
  },
  "varInspector": {
   "cols": {
    "lenName": 16,
    "lenType": 16,
    "lenVar": 40
   },
   "kernels_config": {
    "python": {
     "delete_cmd_postfix": "",
     "delete_cmd_prefix": "del ",
     "library": "var_list.py",
     "varRefreshCmd": "print(var_dic_list())"
    },
    "r": {
     "delete_cmd_postfix": ") ",
     "delete_cmd_prefix": "rm(",
     "library": "var_list.r",
     "varRefreshCmd": "cat(var_dic_list()) "
    }
   },
   "types_to_exclude": [
    "module",
    "function",
    "builtin_function_or_method",
    "instance",
    "_Feature"
   ],
   "window_display": false
  }
 },
 "nbformat": 4,
 "nbformat_minor": 4
}
